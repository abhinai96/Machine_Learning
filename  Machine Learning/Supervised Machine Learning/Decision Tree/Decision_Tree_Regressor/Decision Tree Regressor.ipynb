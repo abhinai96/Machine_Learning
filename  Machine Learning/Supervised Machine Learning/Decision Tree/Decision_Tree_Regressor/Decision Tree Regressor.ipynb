{
 "cells": [
  {
   "cell_type": "code",
   "execution_count": 1,
   "metadata": {},
   "outputs": [],
   "source": [
    "# Importing the libraries\n",
    "import numpy as np\n",
    "import matplotlib.pyplot as plt\n",
    "import pandas as pd\n",
    "from sklearn.model_selection import train_test_split\n",
    "from sklearn.tree import DecisionTreeRegressor\n",
    "from sklearn import metrics"
   ]
  },
  {
   "cell_type": "code",
   "execution_count": 2,
   "metadata": {},
   "outputs": [
    {
     "name": "stdout",
     "output_type": "stream",
     "text": [
      "   ID  Height(Inches)  Weight(Pounds)\n",
      "0   1        65.78331        112.9925\n",
      "1   2        71.51521        136.4873\n",
      "2   3        69.39874        153.0269\n",
      "3   4        68.21660        142.3354\n",
      "4   5        67.78781        144.2971\n"
     ]
    }
   ],
   "source": [
    "#reading files through pandas\n",
    "df = pd.read_csv('train.csv')\n",
    "print(df.head())"
   ]
  },
  {
   "cell_type": "code",
   "execution_count": 3,
   "metadata": {},
   "outputs": [],
   "source": [
    "#taking data to the x and y variables\n",
    "x = df.iloc[:,0:2]\n",
    "y = df.iloc[:,-1]"
   ]
  },
  {
   "cell_type": "code",
   "execution_count": 4,
   "metadata": {},
   "outputs": [],
   "source": [
    "x_train, x_test, y_train, y_test = train_test_split(x, y, test_size=0.25,train_size=0.75, random_state=40)\n"
   ]
  },
  {
   "cell_type": "code",
   "execution_count": 5,
   "metadata": {},
   "outputs": [
    {
     "name": "stdout",
     "output_type": "stream",
     "text": [
      "[120.0835  124.3037  128.3836  119.7404  123.9315  139.38    118.7008\n",
      " 114.3184  112.1788  134.2647  138.7444  134.678   132.9248  115.7084\n",
      " 168.229   133.6992  114.3184  129.3137  131.3231  123.9952  128.2736\n",
      "  98.64133 122.3844  130.9283  117.159   122.039   142.4785  127.7141\n",
      " 117.519   130.2738  133.2068  124.4972  146.2922  120.1567  140.2166\n",
      " 106.5185  130.2738  130.2636  116.0061  114.2555  123.1347  136.9164\n",
      " 142.4235  127.6172  109.8765  116.4113  110.5155  119.4067  139.0499\n",
      " 140.1015  141.8501  134.3986  145.8886  137.1114  146.3385  120.8431\n",
      " 121.5255  128.9418  127.5187  131.8001  115.783   125.4007  127.5839\n",
      " 115.6709  106.4499  135.6203  129.6944  137.1114  116.9994  109.6518\n",
      " 137.1114  110.5155  128.5815  130.2787  128.417   114.5599  106.9803\n",
      " 145.9328  138.2824  131.8001  135.7695  131.7743  135.0151  124.7975\n",
      " 130.2636  123.9952  111.8955  141.1703  134.7804  134.1054  151.6121\n",
      " 115.9678  124.5581  124.9721  123.7319  146.2922  134.9877  151.0695\n",
      " 119.7404  124.7975  124.1866  134.19    134.0296  116.2814  106.1557\n",
      " 117.159   110.5155  117.9607  155.3767  146.3385  133.5474  123.7319\n",
      " 132.6738  124.7975  114.9262  127.8292  139.0617  128.824   127.192\n",
      " 138.7175  114.5867  121.0749  117.0167  125.0174  123.9315  114.143\n",
      " 121.1142  139.0499  138.5255  132.9429  135.6203  111.8955  127.1941\n",
      " 121.2997  132.9048  134.449   133.5474  142.4235  144.9927  147.5061\n",
      " 122.5699  138.5255  129.6944  114.9725  145.8886  138.5255  150.7397\n",
      " 110.5447  124.7299  127.8407  124.7975  138.0935  128.3836  125.7165\n",
      " 137.7571  125.7165  127.6172  129.4022  140.5293  128.417   110.698\n",
      " 116.2841  106.1557  125.4007  116.819   129.3137  129.6944  125.6688\n",
      " 124.5559  129.605   137.5583  127.7141  123.9315  132.5807  142.4235\n",
      " 124.187   134.19    133.9841  139.6711  111.4963  127.4516  114.143\n",
      " 115.8413  145.9328  115.783   125.4036  134.3986  127.0075  105.6891\n",
      " 142.1577  123.1361  150.7397  114.5599  122.8198  123.3024  135.6203\n",
      " 111.4951  109.8765  150.7365  120.8431 ]\n"
     ]
    }
   ],
   "source": [
    "\n",
    "dtree = DecisionTreeRegressor()\n",
    "dtree.fit(x_train,y_train)\n",
    "y_pred = dtree.predict(x_test)\n",
    "print(y_pred)"
   ]
  },
  {
   "cell_type": "code",
   "execution_count": 6,
   "metadata": {},
   "outputs": [
    {
     "name": "stdout",
     "output_type": "stream",
     "text": [
      "RMSE Score : 14.69881321027601\n",
      "       Actual  Predicted\n",
      "737  122.8464   120.0835\n",
      "339  104.4441   124.3037\n",
      "438  136.8530   128.3836\n",
      "678  134.4605   119.7404\n",
      "609  128.7947   123.9315\n",
      "..        ...        ...\n",
      "571  148.1624   135.6203\n",
      "619  117.4840   111.4951\n",
      "155  106.1139   109.8765\n",
      "598  154.1073   150.7365\n",
      "221  130.1569   120.8431\n",
      "\n",
      "[200 rows x 2 columns]\n"
     ]
    }
   ],
   "source": [
    "\n",
    "rmse = np.sqrt(metrics.mean_squared_error(y_test, y_pred))\n",
    "print(\"RMSE Score :\",rmse)\n",
    "dt = pd.DataFrame({'Actual': y_test, 'Predicted': y_pred})\n",
    "print(dt)"
   ]
  },
  {
   "cell_type": "code",
   "execution_count": null,
   "metadata": {},
   "outputs": [],
   "source": []
  }
 ],
 "metadata": {
  "kernelspec": {
   "display_name": "Python 3",
   "language": "python",
   "name": "python3"
  },
  "language_info": {
   "codemirror_mode": {
    "name": "ipython",
    "version": 3
   },
   "file_extension": ".py",
   "mimetype": "text/x-python",
   "name": "python",
   "nbconvert_exporter": "python",
   "pygments_lexer": "ipython3",
   "version": "3.7.6"
  }
 },
 "nbformat": 4,
 "nbformat_minor": 4
}
